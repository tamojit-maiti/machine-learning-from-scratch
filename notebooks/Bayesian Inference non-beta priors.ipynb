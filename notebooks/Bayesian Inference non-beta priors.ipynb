{
 "cells": [
  {
   "cell_type": "markdown",
   "metadata": {},
   "source": [
    "# Bayesian Inference for Binomial Proportion"
   ]
  },
  {
   "cell_type": "markdown",
   "metadata": {},
   "source": [
    "For a random variable to be described by a Binomial distribution parameterised as $Y \\sim \\text{Binomial}(n,\\pi)$ with the parameter prior described as $g(\\pi)$ and the likelihood of the prior given the data (which is equivalent to the probability of seeing the data given the prior) being represented as $f(y | \\pi)$, the posterior distribution of the parameters become proportional to $g(\\pi) \\times f(y | \\pi)$"
   ]
  },
  {
   "cell_type": "markdown",
   "metadata": {},
   "source": [
    "If $g(\\pi)$ is not described by a Beta distribution, that's when shit hits the fan, and what this notebook is all about. "
   ]
  },
  {
   "cell_type": "markdown",
   "metadata": {},
   "source": [
    "### Non-Beta Priors"
   ]
  },
  {
   "cell_type": "markdown",
   "metadata": {},
   "source": [
    "A student is constructing their prior belief about $π$, the proportion of Hamilton residents who support building a casino in Hamilton."
   ]
  },
  {
   "cell_type": "markdown",
   "metadata": {},
   "source": [
    "Let the prior beliefs about $\\pi$  be quantified as\n",
    "\n",
    "$$ g(\\pi) =  \\begin{array}{cc}\n",
    "  \\Bigg\\{ & \n",
    "    \\begin{array}{cc}\n",
    "      10\\pi & \\text{for}\\; 0\\leq\\pi\\leq 0.2 \\\\\n",
    "      2 & \\text{for}\\; 0.2\\leq\\pi\\leq 0.3 \\\\\n",
    "      5-10\\pi & \\text{for}\\; 0.3\\leq\\pi\\leq 0.5\n",
    "    \\end{array}\n",
    "\\end{array}$$"
   ]
  },
  {
   "cell_type": "markdown",
   "metadata": {},
   "source": [
    "### The Data"
   ]
  },
  {
   "cell_type": "markdown",
   "metadata": {},
   "source": [
    "The student takes a random sample of $n = 100$\n",
    "Hamilton residents and find their views on the casino. Out of the random sample,\n",
    "$y = 26$ said they support building a casino in Hamilton."
   ]
  },
  {
   "cell_type": "markdown",
   "metadata": {},
   "source": [
    "We want to find the posterior distribution of $\\pi$\n",
    "\n",
    "$$ \n",
    "g(\\pi | y) = \\frac{g(\\pi) \\times f(y | \\pi)}{\\int_{0}^{1}g(\\pi) \\times f(y | \\pi) d\\pi} \n",
    "$$"
   ]
  },
  {
   "cell_type": "markdown",
   "metadata": {},
   "source": [
    "We aim to numerically integrate to find the denominator for the above non-beta prior. "
   ]
  },
  {
   "cell_type": "code",
   "execution_count": 80,
   "metadata": {},
   "outputs": [
    {
     "data": {
      "image/png": "[encoded data removed]",
      "text/plain": [
       "<Figure size 432x288 with 1 Axes>"
      ]
     },
     "metadata": {
      "needs_background": "light"
     },
     "output_type": "display_data"
    }
   ],
   "source": [
    "pi = np.linspace(0, 1, 10000)\n",
    "prior = (pi<0.2)*g1(pi) + ((pi>0.2) & (pi<0.3))*g2(pi) + ((pi>0.3) & (pi<0.5))*g3(pi)\n",
    "plt.plot(pi, prior)\n",
    "plt.title('Prior distribution of the parameter $\\pi$')\n",
    "plt.show()"
   ]
  },
  {
   "cell_type": "markdown",
   "metadata": {},
   "source": [
    "### Integration as the Limit of a Sum\n",
    "\n",
    "We break the domain of integration in the denominator into three parts. \n",
    "\n",
    "$$ \\int_{0}^{1}g(\\pi) \\times f(y | \\pi) d\\pi = \\int_{0}^{0.2}g_1(\\pi) \\times f(y | \\pi) d\\pi + \\int_{0.2}^{0.3}g_2(\\pi) \\times f(y | \\pi) d\\pi + \\int_{0.3}^{0.5}g_3(\\pi) \\times f(y | \\pi) d\\pi$$\n",
    "\n",
    "where $g_i(\\pi)$ refer to each of the pieces of the piecewise continuous prior distribution $g(\\pi)$\n",
    "\n",
    "For example, $g_1(\\pi) = 10\\pi$\n",
    "\n",
    "We evaluate the three integrals numerically below. "
   ]
  },
  {
   "cell_type": "code",
   "execution_count": 81,
   "metadata": {},
   "outputs": [],
   "source": [
    "from scipy.special import comb \n",
    "\n",
    "def g1(x):\n",
    "    return 10*x\n",
    "\n",
    "def g2(x):\n",
    "    return 2\n",
    "\n",
    "def g3(x):\n",
    "    return 5 - 10*x\n",
    "\n",
    "def f(y, pi, n = 100):\n",
    "    return comb(n, y, exact = True, repetition = False)*pi**(y) * (1-pi)**(n-y)"
   ]
  },
  {
   "cell_type": "code",
   "execution_count": 129,
   "metadata": {},
   "outputs": [],
   "source": [
    "# Number of finite steps for integration\n",
    "num_steps = 500"
   ]
  },
  {
   "cell_type": "markdown",
   "metadata": {},
   "source": [
    "Evaluating $$ \\int_{0}^{0.2}g_1(\\pi) \\times f(y | \\pi) d\\pi \\sim \\sum_{i = 1}^{{num-steps}} g_1(\\pi)*f(y|\\pi)*\\Delta\\pi $$ "
   ]
  },
  {
   "cell_type": "code",
   "execution_count": 130,
   "metadata": {},
   "outputs": [
    {
     "data": {
      "text/plain": [
       "0.001143225162014474"
      ]
     },
     "execution_count": 130,
     "metadata": {},
     "output_type": "execute_result"
    }
   ],
   "source": [
    "import numpy as np\n",
    "\n",
    "int_1 = 0\n",
    "for pi in np.linspace(0, 0.2, num = num_steps):\n",
    "    int_1 = int_1 + g1(pi)*f(pi = pi, y = 26, n = 100)*(0.2/num_steps)\n",
    "int_1"
   ]
  },
  {
   "cell_type": "markdown",
   "metadata": {},
   "source": [
    "Evaluating $$ \\int_{0.2}^{0.3}g_2(\\pi) \\times f(y | \\pi) d\\pi $$"
   ]
  },
  {
   "cell_type": "code",
   "execution_count": 131,
   "metadata": {},
   "outputs": [
    {
     "data": {
      "text/plain": [
       "0.014481073765716106"
      ]
     },
     "execution_count": 131,
     "metadata": {},
     "output_type": "execute_result"
    }
   ],
   "source": [
    "int_2 = 0\n",
    "for pi in np.linspace(0.2, 0.3, num = num_steps):\n",
    "    int_2 = int_2 + g2(pi)*f(pi = pi, y = 26, n = 100)*(0.1/num_steps)\n",
    "int_2"
   ]
  },
  {
   "cell_type": "markdown",
   "metadata": {},
   "source": [
    "Evaluating $$ \\int_{0.3}^{0.5}g_3(\\pi) \\times f(y | \\pi) d\\pi$$"
   ]
  },
  {
   "cell_type": "code",
   "execution_count": 132,
   "metadata": {},
   "outputs": [
    {
     "data": {
      "text/plain": [
       "0.0035555471364470867"
      ]
     },
     "execution_count": 132,
     "metadata": {},
     "output_type": "execute_result"
    }
   ],
   "source": [
    "int_3 = 0\n",
    "for pi in np.linspace(0.3, 0.5, num = num_steps):\n",
    "    int_3 = int_3 + g3(pi)*f(pi = pi, y = 26, n = 100)*(0.2/num_steps)\n",
    "int_3"
   ]
  },
  {
   "cell_type": "markdown",
   "metadata": {},
   "source": [
    "All combining $$ \\int_{0}^{1}g(\\pi) \\times f(y | \\pi) d\\pi $$"
   ]
  },
  {
   "cell_type": "code",
   "execution_count": 133,
   "metadata": {},
   "outputs": [
    {
     "data": {
      "text/plain": [
       "0.019179846064177667"
      ]
     },
     "execution_count": 133,
     "metadata": {},
     "output_type": "execute_result"
    }
   ],
   "source": [
    "denominator = int_1 + int_2 + int_3\n",
    "denominator"
   ]
  },
  {
   "cell_type": "markdown",
   "metadata": {},
   "source": [
    "Plotting the posterior involves expressing the numerator in \n",
    "\n",
    "$$ \n",
    "g(\\pi | y) = \\frac{g(\\pi) \\times f(y | \\pi)}{\\int_{0}^{1}g(\\pi) \\times f(y | \\pi) d\\pi} \n",
    "$$\n",
    "\n",
    "as a function of $\\pi$ and evaluating it for all values of $\\pi \\in [0,1]$. \n",
    "\n",
    "This will give us the general shape of the curve.\n",
    "\n",
    "To get the posterior probability distribution, we have to divide by the denominator "
   ]
  },
  {
   "cell_type": "code",
   "execution_count": 134,
   "metadata": {},
   "outputs": [],
   "source": [
    "pi = np.linspace(0,1,num_steps)\n",
    "posterior = ((pi<0.2)*g1(pi)*f(y = 26, pi = pi, n = 100) + ((pi>0.2) & (pi<0.3))*g2(pi)*f(y = 26, pi = pi, n = 100) + ((pi>0.3) & (pi<0.5))*g3(pi)*f(y = 26, pi = pi, n = 100))/denominator"
   ]
  },
  {
   "cell_type": "code",
   "execution_count": 135,
   "metadata": {},
   "outputs": [
    {
     "data": {
      "image/png": "[encoded data removed]",
      "text/plain": [
       "<Figure size 432x288 with 1 Axes>"
      ]
     },
     "metadata": {
      "needs_background": "light"
     },
     "output_type": "display_data"
    }
   ],
   "source": [
    "plt.plot(pi, posterior)\n",
    "plt.title('Plot of Posterior distribution of $\\\\pi$ after observing \\n y = 26 with n = 100')\n",
    "plt.show()"
   ]
  }
 ],
 "metadata": {
  "kernelspec": {
   "display_name": "Python 3",
   "language": "python",
   "name": "python3"
  },
  "language_info": {
   "codemirror_mode": {
    "name": "ipython",
    "version": 3
   },
   "file_extension": ".py",
   "mimetype": "text/x-python",
   "name": "python",
   "nbconvert_exporter": "python",
   "pygments_lexer": "ipython3",
   "version": "3.7.7"
  }
 },
 "nbformat": 4,
 "nbformat_minor": 4
}
