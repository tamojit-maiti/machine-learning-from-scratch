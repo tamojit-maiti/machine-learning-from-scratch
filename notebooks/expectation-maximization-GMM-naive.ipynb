{
  "nbformat": 4,
  "nbformat_minor": 0,
  "metadata": {
    "colab": {
      "name": "naive-EM-GMM-estimation.ipynb",
      "provenance": [],
      "collapsed_sections": [],
      "authorship_tag": "ABX9TyMwoNW58lbrAfV/y99JEoTK",
      "include_colab_link": true
    },
    "kernelspec": {
      "name": "python3",
      "display_name": "Python 3"
    },
    "language_info": {
      "name": "python"
    }
  },
  "cells": [
    {
      "cell_type": "markdown",
      "metadata": {
        "id": "view-in-github",
        "colab_type": "text"
      },
      "source": [
        "<a href=\"https://colab.research.google.com/github/tamojit-maiti/machine-learning-from-scratch/blob/main/expectation-maximization-GMM-naive.ipynb\" target=\"_parent\"><img src=\"https://colab.research.google.com/assets/colab-badge.svg\" alt=\"Open In Colab\"/></a>"
      ]
    },
    {
      "cell_type": "markdown",
      "metadata": {
        "id": "rAB3s1BKF2WX"
      },
      "source": [
        "# Parameter Estimation for Gaussian Mixture Models\n",
        "\n",
        "This notebook is meant to demonstrate the naive method for parameter estimation for Gaussian Mixture Models. "
      ]
    },
    {
      "cell_type": "code",
      "metadata": {
        "id": "vZZ-cSVgFmfi"
      },
      "source": [
        "import numpy as np\n",
        "import matplotlib.pyplot as plt\n",
        "from scipy.stats import norm, multivariate_normal\n",
        "from datetime import datetime"
      ],
      "execution_count": 282,
      "outputs": []
    },
    {
      "cell_type": "markdown",
      "metadata": {
        "id": "KKLMu8cNGfO7"
      },
      "source": [
        "### Simulating Data of Gaussian Mixtures"
      ]
    },
    {
      "cell_type": "code",
      "metadata": {
        "colab": {
          "base_uri": "https://localhost:8080/",
          "height": 281
        },
        "id": "6_N33z_uRVx3",
        "outputId": "1a8198c6-ac58-41d6-c0d1-591802b455c1"
      },
      "source": [
        "# Means\n",
        "mean_1 = [1,1]\n",
        "mean_2 = [0,4]\n",
        "mean_3 = [2,5]\n",
        "\n",
        "# Covariances (should be PSD)\n",
        "cov_1 = np.random.rand(2,2)\n",
        "cov_1 = np.dot(cov_1, cov_1.transpose())\n",
        "\n",
        "cov_2 = np.random.rand(2,2)\n",
        "cov_2 = np.dot(cov_2, cov_2.transpose())\n",
        "\n",
        "cov_3 = np.random.rand(2,2)\n",
        "cov_3 = np.dot(cov_3, cov_3.transpose())\n",
        "\n",
        "# Latent Clusters\n",
        "x1 = np.random.multivariate_normal(mean = mean_1, cov = cov_1, size = 100)\n",
        "x2 = np.random.multivariate_normal(mean = mean_2, cov = cov_2, size = 100)\n",
        "x3 = np.random.multivariate_normal(mean = mean_3, cov = cov_3, size = 100)\n",
        "\n",
        "# Plots\n",
        "plt.scatter(x1[:,0], x1[:,1], label = 'Cluster 1')\n",
        "plt.scatter(x2[:,0], x2[:,1], label = 'Cluster 2')\n",
        "plt.scatter(x3[:,0], x3[:,1], label = 'Cluster 3')\n",
        "plt.title('Simulated Dataset Clusters')\n",
        "plt.show()"
      ],
      "execution_count": 267,
      "outputs": [
        {
          "output_type": "display_data",
          "data": {
            "image/png": "[encoded data removed]",
            "text/plain": [
              "<Figure size 432x288 with 1 Axes>"
            ]
          },
          "metadata": {
            "tags": [],
            "needs_background": "light"
          }
        }
      ]
    },
    {
      "cell_type": "markdown",
      "metadata": {
        "id": "JBy_1Sg6TlQ_"
      },
      "source": [
        "### The Mixture Model\n",
        "\n",
        "We assume some number of clusters, suppose here $k=3$. \n",
        "\n",
        "The points are modelled as $ P(x_i | \\theta)$, where $x_i$ refers to the $i$-th point in the dataset, and $\\theta = \\{\\mu_1, \\mu_2, \\mu_3, \\Sigma_1, \\Sigma_2, \\Sigma_3\\}$\n",
        "\n",
        "We introduce a latent variable $t$ which influences which cluster each $x_i$ belongs to, through $P(t_i = c | x_i, \\theta)$ \n",
        "\n",
        "So, by un-marginalizing $t$, we can write our model as \n",
        "\n",
        "$$ P(x_i | \\theta) = \\sum_{c = 1}^{3} P(x_i | t_i = c, \\theta) P(t_i = c|\\theta) $$\n",
        "\n",
        "This means that our $\\theta$ now contains additional parameters $\\pi_c = P(t_i = c | \\theta)$ for each cluster $c$\n",
        "\n",
        "So, \n",
        "\n",
        "$$\\theta = \\{\\pi_1, \\pi_2, \\pi_3, \\mu_1, \\mu_2, \\mu_3, \\Sigma_1, \\Sigma_2, \\Sigma_3 \\}$$\n",
        "\n",
        "\n",
        "To find optimum $\\theta$ for model fitting, let us maximize the likelihood function of $\\theta$ given the observed data\n",
        "\n",
        "$$ \\theta = \\arg\\max_{\\theta} P(x_i | \\theta)$$\n",
        "\n",
        "As an initialization step, we take randomly any $\\theta$ and hope to improve upon it subsequently\n",
        "\n",
        "#### $ \\textbf{Repeat Till Convergence}$\n",
        "1. After we have got some (updated) estimate of $\\theta$, we compute $P(t_i = c |x_i, \\theta)$ for all points $x_i$ \n",
        "\n",
        "This can be computed using the Bayes' rule as\n",
        "\n",
        "$$P(t_i = c |x_i, \\theta) = \\frac{P(x_i | t_i = c, \\theta)P(t_i = c|\\theta)}{\\sum_{c = 1}^{3}P(x_i | t_i = c, \\theta)P(t_i = c|\\theta)}$$\n",
        "\n",
        "where\n",
        "\n",
        "$$ P(x_i | t_i = c, \\theta) \\sim N(\\mu_c, \\Sigma_c)$$\n",
        "\n",
        "$$ P(t_i = c | \\theta) = \\pi_c$$\n",
        "\n",
        "\n",
        "2. Using this, we can solve the maximization problem\n",
        "$$ \\arg\\max_{\\theta} P(x_i | \\theta)$$\n",
        "\n",
        "which will yield new values of $\\theta$ as\n",
        "\n",
        "$$ \\pi_c = \\frac{1}{M} \\sum_{i = 1}^{M} P(t_i = c | x_i, \\theta)$$\n",
        "\n",
        "$$ \\mu_c = \\frac{\\sum_{i = 1}^{M} P(t_i = c | x_i, \\theta)x_i}{\\sum_{i = 1}^{M} P(t_i = c | x_i, \\theta)}$$\n",
        "\n",
        "$$ \\Sigma_c = \\frac{\\sum_{i = 1}^{M} P(t_i = c | x_i, \\theta)(x_i - \\mu_c)(x_i - \\mu_c)^T}{\\sum_{i = 1}^{M} P(t_i = c | x_i, \\theta)}$$\n"
      ]
    },
    {
      "cell_type": "markdown",
      "metadata": {
        "id": "ibIEF3F4KSw-"
      },
      "source": [
        "### Code Implementation"
      ]
    },
    {
      "cell_type": "code",
      "metadata": {
        "id": "XF-jXx0nYk9V"
      },
      "source": [
        "# Preparing the Dataset\n",
        "x = np.vstack([x1, x2, x3])"
      ],
      "execution_count": 268,
      "outputs": []
    },
    {
      "cell_type": "code",
      "metadata": {
        "id": "3VtxRTky4_RM"
      },
      "source": [
        "# Defining Marginal Distributions\n",
        "def likelihood(i: int, cluster: int, mu: np.array, sigma: np.array):\n",
        "    return multivariate_normal(mean = mu[cluster], cov = sigma[cluster]).pdf(x[i])\n",
        "\n",
        "# Defining Priors\n",
        "def prior(cluster: int, pi: np.array):\n",
        "    return pi[cluster]\n",
        "\n",
        "# Calculating Weights for every point belonging in each cluster\n",
        "def weights(i: int, cluster: int, pi: np.array = pi, mu: np.array = mu, sigma: np.array = sigma):\n",
        "    numerator = likelihood(i,cluster, mu = mu, sigma = sigma)*prior(cluster, pi = pi)\n",
        "    denominator = sum([likelihood(i,cluster, mu, sigma)*prior(cluster, pi) for cluster in range(3)])\n",
        "    return numerator/denominator"
      ],
      "execution_count": 289,
      "outputs": []
    },
    {
      "cell_type": "code",
      "metadata": {
        "id": "kzoZEGLHy9Sb"
      },
      "source": [
        "# Iteration Parameters\n",
        "n_iteration = 100\n",
        "\n",
        "# Initialize the Parameters Randomly\n",
        "pi_1 = np.random.uniform(low = 0.0, high = 1.0, size = 1)\n",
        "pi_2 = np.random.uniform(low = 0.0, high = 1.0 - pi_1, size = 1)\n",
        "pi_3 = 1 - pi_1 - pi_2\n",
        "pi = [pi_1, pi_2, pi_3]\n",
        "\n",
        "mu_1 = np.random.uniform(size = 2)\n",
        "mu_2 = np.random.uniform(size = 2)\n",
        "mu_3 = np.random.uniform(size = 2)\n",
        "mu = [mu_1, mu_2, mu_3]\n",
        "\n",
        "sigma_1 = np.random.rand(2,2)\n",
        "sigma_1 = np.dot(sigma_1, sigma_1.transpose())\n",
        "sigma_2 = np.random.rand(2,2)\n",
        "sigma_2 = np.dot(sigma_2, sigma_2.transpose())\n",
        "sigma_3 = np.random.rand(2,2)\n",
        "sigma_3 = np.dot(sigma_3, sigma_3.transpose())\n",
        "sigma = [sigma_1, sigma_2, sigma_3]"
      ],
      "execution_count": 298,
      "outputs": []
    },
    {
      "cell_type": "code",
      "metadata": {
        "colab": {
          "base_uri": "https://localhost:8080/"
        },
        "id": "S4_AGNfhqB3O",
        "outputId": "6a65e04c-a4f4-4fc6-fc09-b4f07e62ba3b"
      },
      "source": [
        "# Bringing it all together\n",
        "\n",
        "weight_matrix = np.zeros(shape = (x.shape[0],3))\n",
        "\n",
        "for iteration in range(10):\n",
        "\n",
        "    mu_history = mu # previous iteration\n",
        "\n",
        "    # Calculate weights (double for-loops is SLOOOOOW!) | fromfunction did not work\n",
        "    for row in range(weight_matrix.shape[0]):\n",
        "        for column in range(weight_matrix.shape[1]):\n",
        "            weight_matrix[row, column] = weights(i = row, cluster = column, pi = pi, mu = mu, sigma = sigma)\n",
        "\n",
        "    start = datetime.now()\n",
        "    # Use weights to update parameters\n",
        "    for cluster in range(weight_matrix.shape[1]):\n",
        "        # Pi\n",
        "        pi[cluster] = np.mean(weight_matrix[:,cluster])\n",
        "        # Mu\n",
        "        mu[cluster] = sum([weight_matrix[i,cluster]*x[i] for i in range(x.shape[0])]) / sum(weight_matrix[:,cluster])\n",
        "        # Sigma\n",
        "        sigma[cluster] = sum([weight_matrix[i,cluster]*np.outer((x[i] - mu_history[cluster]),(x[i] - mu_history[cluster])) for i in range(x.shape[0])]) / sum(weight_matrix[:,cluster])\n",
        "\n",
        "    # Logging\n",
        "    if iteration%2 == 0:\n",
        "        print('iteration: {}'.format(iteration))"
      ],
      "execution_count": 300,
      "outputs": [
        {
          "output_type": "stream",
          "text": [
            "iteration: 0\n",
            "iteration: 2\n",
            "iteration: 4\n",
            "iteration: 6\n",
            "iteration: 8\n"
          ],
          "name": "stdout"
        }
      ]
    },
    {
      "cell_type": "code",
      "metadata": {
        "colab": {
          "base_uri": "https://localhost:8080/",
          "height": 281
        },
        "id": "gf_3TwIe63zk",
        "outputId": "9c7f1e35-911b-4be6-8e7a-429bb9c9cd96"
      },
      "source": [
        "# Final Result Plotting\n",
        "plt.title('Predicted Clusters')\n",
        "cluster_assignments = weight_matrix.argmax(axis = 1)\n",
        "plt.scatter(x[:,0],x[:,1], c = cluster_assignments)\n",
        "plt.show()"
      ],
      "execution_count": 301,
      "outputs": [
        {
          "output_type": "display_data",
          "data": {
            "image/png": "[encoded data removed]",
            "text/plain": [
              "<Figure size 432x288 with 1 Axes>"
            ]
          },
          "metadata": {
            "tags": [],
            "needs_background": "light"
          }
        }
      ]
    },
    {
      "cell_type": "code",
      "metadata": {
        "id": "aQaJuKWXEuFX"
      },
      "source": [
        ""
      ],
      "execution_count": null,
      "outputs": []
    }
  ]
}