{
 "cells": [
  {
   "cell_type": "code",
   "execution_count": 67,
   "metadata": {},
   "outputs": [
    {
     "data": {
      "text/plain": [
       "-0.17854212213729673"
      ]
     },
     "execution_count": 67,
     "metadata": {},
     "output_type": "execute_result"
    }
   ],
   "source": [
    "import numpy as np\n",
    "\n",
    "l1 = np.array([1,0,3,0,0,5,0,0,5,0,4,0], dtype = float)\n",
    "l2 = np.array([0,0,5,4,0,0,4,0,0,2,1,3], dtype = float)\n",
    "\n",
    "l1[l1>0] = l1[l1>0] - np.sum(l1)/sum(l1>0)\n",
    "l2[l2>0] = l2[l2>0] - np.sum(l2)/sum(l2>0)\n",
    "\n",
    "\n",
    "np.dot(l1,l2)/(np.linalg.norm(l1)*np.linalg.norm(l2))"
   ]
  },
  {
   "cell_type": "code",
   "execution_count": 57,
   "metadata": {},
   "outputs": [
    {
     "data": {
      "text/plain": [
       "array([-2.6,  0. , -0.6,  0. ,  0. ,  1.4,  0. ,  0. ,  1.4,  0. ,  0.4,\n",
       "        0. ])"
      ]
     },
     "execution_count": 57,
     "metadata": {},
     "output_type": "execute_result"
    }
   ],
   "source": [
    "l1[l1>0] = l1[l1>0] - np.sum(l1)/sum(l1>0)\n",
    "l1"
   ]
  },
  {
   "cell_type": "code",
   "execution_count": null,
   "metadata": {},
   "outputs": [],
   "source": []
  }
 ],
 "metadata": {
  "kernelspec": {
   "display_name": "Python 3.10.6 ('ml-from-scratch': venv)",
   "language": "python",
   "name": "python3"
  },
  "language_info": {
   "codemirror_mode": {
    "name": "ipython",
    "version": 3
   },
   "file_extension": ".py",
   "mimetype": "text/x-python",
   "name": "python",
   "nbconvert_exporter": "python",
   "pygments_lexer": "ipython3",
   "version": "3.10.6"
  },
  "orig_nbformat": 4,
  "vscode": {
   "interpreter": {
    "hash": "9dbbc3d0250991bb563b88e3891a4644515c58cbdfea9640e21f102acd0967b9"
   }
  }
 },
 "nbformat": 4,
 "nbformat_minor": 2
}
